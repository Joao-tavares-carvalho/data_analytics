{
  "nbformat": 4,
  "nbformat_minor": 0,
  "metadata": {
    "colab": {
      "provenance": [],
      "mount_file_id": "1Rij-D-0RrMyE_BmQA8HDFMF6QC1slYez",
      "authorship_tag": "ABX9TyN03QXmAr1ZI0tTZ1+/PQxh",
      "include_colab_link": true
    },
    "kernelspec": {
      "name": "python3",
      "display_name": "Python 3"
    },
    "language_info": {
      "name": "python"
    }
  },
  "cells": [
    {
      "cell_type": "markdown",
      "metadata": {
        "id": "view-in-github",
        "colab_type": "text"
      },
      "source": [
        "<a href=\"https://colab.research.google.com/github/Joao-tavares-carvalho/data_analytics/blob/main/XML_PARA_EXEL.ipynb\" target=\"_parent\"><img src=\"https://colab.research.google.com/assets/colab-badge.svg\" alt=\"Open In Colab\"/></a>"
      ]
    },
    {
      "cell_type": "markdown",
      "source": [
        "XML PARA EXEL"
      ],
      "metadata": {
        "id": "VacPjxOZ-fZK"
      }
    },
    {
      "cell_type": "code",
      "source": [
        "#!pip install pandas numpy openpyxl\n",
        "import xmltodict\n",
        "import os\n",
        "import json\n",
        "import pandas as pd"
      ],
      "metadata": {
        "id": "cXZUpVEK_J_o"
      },
      "execution_count": null,
      "outputs": []
    },
    {
      "cell_type": "code",
      "source": [
        "def pegar_informacoes(nome_arquivo, valores):\n",
        "  #print(f\"informacoes recebidas {nome_arquivo}\")\n",
        "\n",
        "  with open(f\"/content/drive/MyDrive/Colab Notebooks/NFe/{nome_arquivo}\", \"rb\") as arq_xml:\n",
        "    dic_arquivo = xmltodict.parse(arq_xml)\n",
        "    try:\n",
        "        if \"NFe\" in dic_arquivo:\n",
        "          infos_nf = dic_arquivo[\"NFe\"][\"infNFe\"]\n",
        "        else:\n",
        "           infos_nf = dic_arquivo[\"nfeProc\"][\"NFe\"][\"infNFe\"]\n",
        "        Numero_nota = infos_nf[\"@Id\"]\n",
        "        Emissor_nota = infos_nf[\"emit\"][\"xNome\"]\n",
        "        Nome_cliente = infos_nf[\"dest\"][\"xNome\"]\n",
        "        Endereço = infos_nf[\"dest\"][\"enderDest\"]\n",
        "        if \"vol\" in infos_nf[\"transp\"]:\n",
        "          Peso_bruto = infos_nf[\"transp\"][\"vol\"][\"pesoB\"]\n",
        "        else :\n",
        "          Peso_bruto = \"Nao encontrado a informacao de volume\"\n",
        "        valores.append([Numero_nota,Emissor_nota,Nome_cliente,Endereço,Peso_bruto])\n",
        "\n",
        "    except Exception as e:\n",
        "        print(e)\n",
        "        print (json.dumps(dic_arquivo, indent= 4))\n",
        "\n",
        "\n",
        "list_arquivo = os.listdir(\"/content/drive/MyDrive/Colab Notebooks/NFe\")\n",
        "\n",
        "colunas = [\"Numero_nota\",\"Emissor_nota\",\"Nome_cliente\",\"Endereço\",\"Peso_bruto\"]\n",
        "valores = []\n",
        "\n",
        "for arquivo in list_arquivo:\n",
        "  pegar_informacoes(arquivo, valores)\n",
        "\n",
        "tabela = pd.DataFrame(columns=colunas, data=valores)\n",
        "tabela.to_excel(\"Notas_fiscais.xlsx\", index=False)\n"
      ],
      "metadata": {
        "id": "w9msgLuK_9Pc"
      },
      "execution_count": 20,
      "outputs": []
    },
    {
      "cell_type": "code",
      "source": [],
      "metadata": {
        "id": "iP42CmPhaWwT"
      },
      "execution_count": null,
      "outputs": []
    }
  ]
}